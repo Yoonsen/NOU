{
 "cells": [
  {
   "cell_type": "markdown",
   "metadata": {},
   "source": [
    "# Undersøk korpus med metadata og konkordans\n",
    "\n",
    "Konkordanser gir oppslagt for nøkkelord i en kontekst, også kjent under akronymet [KWIC](https://en.wikipedia.org/wiki/Key_Word_in_Context). Kommandoene som benyttes er get_konk (eller nb.get_konk), og ligger klar i modulen nbtext.\n",
    "\n",
    "Gjør API-et aktivt ved å kjøre cellen under."
   ]
  },
  {
   "cell_type": "code",
   "execution_count": 1,
   "metadata": {},
   "outputs": [],
   "source": [
    "import nbtext as nb\n",
    "from nbtext import get_konk, get_urnkonk, urn_from_text\n",
    "%matplotlib inline"
   ]
  },
  {
   "cell_type": "code",
   "execution_count": 4,
   "metadata": {},
   "outputs": [
    {
     "data": {
      "text/plain": [
       "[[2016011108038,\n",
       "  'Eriksen, Sverre A.',\n",
       "  'Norges offentlige utredninger 1972-1984',\n",
       "  1985],\n",
       " [2015011208008,\n",
       "  '',\n",
       "  'Typografianvisninger for Norges offentlige utredninger (NOU)',\n",
       "  1996],\n",
       " [2012053008067,\n",
       "  'Eriksen, Sverre A.',\n",
       "  'Norges offentlige utredninger 1972-1990',\n",
       "  1991],\n",
       " [2013110406110,\n",
       "  'Ohren, Turid',\n",
       "  'Norges offentlige utredninger 1972-1979',\n",
       "  1980],\n",
       " [2011082408086,\n",
       "  'Eriksen, Sverre A.',\n",
       "  'Norges offentlige utredninger 1972-1996',\n",
       "  1997],\n",
       " [2012052308004,\n",
       "  'Eriksen, Sverre A.',\n",
       "  'Norges offentlige utredninger 1972-1992',\n",
       "  1993],\n",
       " [2008072304084,\n",
       "  '',\n",
       "  'Skriveveiledning for utarbeidelse av manuskript til Norges offentlige utredninger (NOU)',\n",
       "  1996],\n",
       " [2009111204017,\n",
       "  'Eriksen, Sverre A.',\n",
       "  'Norges offentlige utredninger 1972-1995',\n",
       "  1996],\n",
       " [2015090806133,\n",
       "  'Eriksen, Sverre A.',\n",
       "  'Norges offentlige utredninger 1972-1991',\n",
       "  1992],\n",
       " [2012071206213,\n",
       "  'Eriksen, Sverre A.',\n",
       "  'Norges offentlige utredninger 1972-1986',\n",
       "  1987],\n",
       " [2015070309100,\n",
       "  'Eriksen, Sverre A.',\n",
       "  'Norges offentlige utredninger 1972-1988',\n",
       "  1989],\n",
       " [2012061905041,\n",
       "  'Ohren, Turid',\n",
       "  'Norges offentlige utredninger 1972-1981',\n",
       "  1982],\n",
       " [2009081701091,\n",
       "  'Eriksen, Sverre A.',\n",
       "  'Norges offentlige utredninger 1972-1985',\n",
       "  1986],\n",
       " [2009063000060,\n",
       "  'Eriksen, Sverre A.',\n",
       "  'Norges offentlige utredninger 1972-1994',\n",
       "  1995],\n",
       " [2012080709532,\n",
       "  '',\n",
       "  'Hvor langt er man kommet i Solør/Odaldistriktet når det gjelder å realisere intensjonene i skolelovene og de offentlige utredningene om organisering av undervisningstilbud til psykisk utviklingshemmede?',\n",
       "  1980],\n",
       " [2010082508081,\n",
       "  'Eriksen, Sverre A.',\n",
       "  'Norges offentlige utredninger 1972-2000',\n",
       "  1999],\n",
       " [2015050809048,\n",
       "  'Løken, Espen',\n",
       "  'Bibliografi over utredninger ikke inntatt i serien Norges offentlige utredninger (NOU) 1972-1976',\n",
       "  1977],\n",
       " [2008010304036,\n",
       "  'Eriksen, Sverre A.',\n",
       "  'Norges offentlige utredninger 1972-1993',\n",
       "  1994],\n",
       " [2016062108102,\n",
       "  'Eriksen, Sverre A.',\n",
       "  'Norges offentlige utredninger 1972-1983',\n",
       "  1984],\n",
       " [2015050809014,\n",
       "  '',\n",
       "  'Redigert oversikt over høringsresultatene på Norges offentlige utredninger : NOU 1978:1: Om lov om oppvekstmiljø',\n",
       "  1978]]"
      ]
     },
     "execution_count": 4,
     "metadata": {},
     "output_type": "execute_result"
    }
   ],
   "source": [
    "NOU = nb.get_urn({'title':\"%offentlige utredni%\", 'lang':'nob', 'year':1950, 'next':50,'limit':200000})\n",
    "NOU"
   ]
  },
  {
   "cell_type": "code",
   "execution_count": null,
   "metadata": {},
   "outputs": [],
   "source": []
  }
 ],
 "metadata": {
  "hide_input": false,
  "kernelspec": {
   "display_name": "Python 3",
   "language": "python",
   "name": "python3"
  },
  "language_info": {
   "codemirror_mode": {
    "name": "ipython",
    "version": 3
   },
   "file_extension": ".py",
   "mimetype": "text/x-python",
   "name": "python",
   "nbconvert_exporter": "python",
   "pygments_lexer": "ipython3",
   "version": "3.6.5"
  }
 },
 "nbformat": 4,
 "nbformat_minor": 2
}
