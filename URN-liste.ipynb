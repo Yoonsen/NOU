{
 "cells": [
  {
   "cell_type": "markdown",
   "metadata": {},
   "source": [
    "# Undersøk korpus med metadata og konkordans\n",
    "\n",
    "Konkordanser gir oppslagt for nøkkelord i en kontekst, også kjent under akronymet [KWIC](https://en.wikipedia.org/wiki/Key_Word_in_Context). Kommandoene som benyttes er get_konk (eller nb.get_konk), og ligger klar i modulen nbtext.\n",
    "\n",
    "Gjør API-et aktivt ved å kjøre cellen under."
   ]
  },
  {
   "cell_type": "code",
   "execution_count": 1,
   "metadata": {},
   "outputs": [],
   "source": [
    "import nbtext as nb\n",
    "from nbtext import get_konk, get_urnkonk, urn_from_text\n",
    "%matplotlib inline"
   ]
  },
  {
   "cell_type": "code",
   "execution_count": 8,
   "metadata": {},
   "outputs": [
    {
     "data": {
      "text/plain": [
       "[[2012041705005,\n",
       "  'Bjørnsrud, Halvor',\n",
       "  'Kvalitetsutvalgets NOU 2003: 16 I første rekke, med fokus på inkluderende skole, drøftet i forhold til didaktisk relasjonstenkning',\n",
       "  2004],\n",
       " [2016041109515,\n",
       "  '',\n",
       "  'Seminar over NOU 1982:14, Fastsettelse og innkreving av underholdsbidrag',\n",
       "  1982],\n",
       " [2014080808047,\n",
       "  '',\n",
       "  'Sammendrag av NOU 1982:9, Kommunaløkonomisk styring',\n",
       "  1982],\n",
       " [2014071606041,\n",
       "  '',\n",
       "  \"NIBR's kommentarer til NOU 1977:1 Ny planleggingslov\",\n",
       "  1977],\n",
       " [2013071606044,\n",
       "  '',\n",
       "  'Norges banks uttalelse om NOU 1983:39 \"Lov om Norges bank og pengevesenet\"',\n",
       "  1984],\n",
       " [2015110908055,\n",
       "  '',\n",
       "  'Motmelding til NOU 1985:34 Levekår for psykisk utviklingshemmede',\n",
       "  1986],\n",
       " [2015052009004, '', \"Kvinneretten's seminar om NOU 1979:38\", 1980],\n",
       " [2012062908160,\n",
       "  'Raustøl, Tellef',\n",
       "  'Kartlegging og analyse av høringsuttalelsene fra Kirkelovutvalget - NOU 1989:7',\n",
       "  1993],\n",
       " [2014031806080, '', 'Høring - NOU 2006:10', 2006],\n",
       " [2011010408009,\n",
       "  '',\n",
       "  'Bankforeningens høringsuttalelse til NOU 1994:19 Utkast til lov om finansavtaler og finansoppdrag',\n",
       "  1995],\n",
       " [2016051308011,\n",
       "  'Kolsrud, Dag',\n",
       "  'Om regresjoner på fylkeskommunale data i NOU 1996:1',\n",
       "  1996],\n",
       " [2009092201059,\n",
       "  'Birkeland, Eva',\n",
       "  'Høringsuttalelse til Lund-utvalgets innstilling NOU 1994:2 \"fra arbeid til pensjon\"',\n",
       "  1994],\n",
       " [2013030608150,\n",
       "  '',\n",
       "  'Oppfølging av NOU 2000:16, Tobakksindustriens erstatningsansvar',\n",
       "  2002],\n",
       " [2015050809014,\n",
       "  '',\n",
       "  'Redigert oversikt over høringsresultatene på Norges offentlige utredninger : NOU 1978:1: Om lov om oppvekstmiljø',\n",
       "  1978]]"
      ]
     },
     "execution_count": 8,
     "metadata": {},
     "output_type": "execute_result"
    }
   ],
   "source": [
    "NOU = nb.get_urn({'title':\"% NOU %\", 'lang':'nob', 'year':1900, 'next':150,'limit':200000})\n",
    "NOU"
   ]
  },
  {
   "cell_type": "code",
   "execution_count": null,
   "metadata": {},
   "outputs": [],
   "source": []
  }
 ],
 "metadata": {
  "hide_input": false,
  "kernelspec": {
   "display_name": "Python 3",
   "language": "python",
   "name": "python3"
  },
  "language_info": {
   "codemirror_mode": {
    "name": "ipython",
    "version": 3
   },
   "file_extension": ".py",
   "mimetype": "text/x-python",
   "name": "python",
   "nbconvert_exporter": "python",
   "pygments_lexer": "ipython3",
   "version": "3.6.5"
  }
 },
 "nbformat": 4,
 "nbformat_minor": 2
}
